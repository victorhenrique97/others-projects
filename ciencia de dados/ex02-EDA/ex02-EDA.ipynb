{
 "cells": [
  {
   "cell_type": "markdown",
   "metadata": {},
   "source": [
    "### Pratica 2 - Exploração de dados - Parte II\n",
    "\n",
    "##### Victor Henrique Rodrigues - 9791027\n",
    "##### Rodrigo Geurgas Zavarizz - 9791080"
   ]
  },
  {
   "cell_type": "code",
   "execution_count": 71,
   "metadata": {},
   "outputs": [],
   "source": [
    "import pandas as pd\n",
    "import numpy as np\n",
    "from sklearn import datasets \n",
    "\n",
    "wine = datasets.load_wine()\n",
    "wine = pd.DataFrame(data= np.c_[wine['data'], wine['target']],\n",
    "                     columns= wine['feature_names'] + ['target'])\n",
    "\n",
    "#temos os vinhos divididos em 3 classes\n",
    "#wine\n",
    "#wine.keys() #listando os atributos"
   ]
  },
  {
   "cell_type": "code",
   "execution_count": 72,
   "metadata": {},
   "outputs": [],
   "source": [
    "wine_atributes = wine[['alcohol', 'flavanoids', 'hue', 'malic_acid', 'magnesium', 'target']]\n",
    "#wine_atributes"
   ]
  },
  {
   "cell_type": "markdown",
   "metadata": {},
   "source": [
    "#### Questões sobre o dataset Wine  da pratica anterior:\n",
    "\n",
    "1. Correlação entre Alcohol, Flavanoides e Hue\n",
    "    Para verificar a correlação entre as variáveis usamos um scatter plot com todas e plotamos as regressões lineares das possíveis relações e não da para identificar correlação entre as variáveis.\n",
    "2. Elementos com maior teor alcoólico implicam em elementos com maior quantidade de ácido málico\n",
    "    Para verificar a hipótese pegamos os 10 linhas com maiores teores alcoólicos e as 10 linhas com maiores quantidades de ácido málico e comparamos as tabelas e concluímos e um não implica o outro.\n",
    "3. Uma quantidade maior de magnésio causa um hue menor\n",
    "    Para verificar a hipótese pegamos os 10 linhas com maiores quantidades magnésio e as 10 linhas com menores quantidades de hue e comparamos as tabelas e concluímos e um não implica o outro."
   ]
  },
  {
   "cell_type": "markdown",
   "metadata": {},
   "source": [
    "#### Reformulando questões da Pratica anterior:\n",
    "\n",
    "1. A quantidade de alcool influencia na classe a qual o vinho pertence?\n",
    "R: A partir do boxplot pode-se observar que para os valores entre o primeiro e o terceiro quartil cuja classe é representada pelo 1.0 podemos dizer que sim. Já para as classes 0.0 e 2.0 podemos também dizer que sim exceto pelos valores próximos do primeiro quartil do target 0.0 e do terceiro quartil do target 2.0, pois há uma leve sobrepoisção dox boxplots nesse ponto. Já considerando os pontos fora desse intervalo não podemos pois há muita sobreposição.\n",
    "2. O tamanho do intervalo entre o maior e o menor valor de magnésio é próximo em todas as classes?\n",
    "R: Podemos afirmar que não é por conta da classe 1.0.\n",
    "3. Os dados hue seguem uma distribuição normal?\n",
    "R: Não, apesar da obliquidade padronizada dar próximo de 0 o que indica uma distribuição simétrica, a curtose deu negativa, o que indica que os dados estão achatados, o que não segue uma distribuição normal."
   ]
  },
  {
   "cell_type": "code",
   "execution_count": 73,
   "metadata": {},
   "outputs": [
    {
     "data": {
      "image/png": "[encoded data removed]",
      "text/plain": [
       "<Figure size 720x720 with 1 Axes>"
      ]
     },
     "metadata": {},
     "output_type": "display_data"
    }
   ],
   "source": [
    "from matplotlib import pyplot as plt\n",
    "\n",
    "wine_atributes.columns[[0]]\n",
    "box = wine_atributes.boxplot(column=wine_atributes.columns[[0]].tolist(), rot=45, by='target', figsize=(10,10))\n",
    "plt.show()"
   ]
  },
  {
   "cell_type": "code",
   "execution_count": 75,
   "metadata": {},
   "outputs": [
    {
     "name": "stdout",
     "output_type": "stream",
     "text": [
      "43.0\n",
      "92.0\n",
      "43.0\n"
     ]
    }
   ],
   "source": [
    "print(wine[wine.target == 0.0].magnesium.max() - wine[wine.target == 0.0].magnesium.min())\n",
    "print(wine[wine.target == 1.0].magnesium.max() - wine[wine.target == 1.0].magnesium.min())\n",
    "print(wine[wine.target == 2.0].magnesium.max() - wine[wine.target == 2.0].magnesium.min())"
   ]
  },
  {
   "cell_type": "code",
   "execution_count": 76,
   "metadata": {
    "scrolled": true
   },
   "outputs": [
    {
     "name": "stdout",
     "output_type": "stream",
     "text": [
      "5.017957173447035e-17 2.1953549450604088e-16\n",
      "0.052244960705897285 1.0\n",
      "0.0002490359543201039 0.021091272199709302\n",
      "0.00714370926229767 -0.3440957413614769\n"
     ]
    }
   ],
   "source": [
    "centered = wine.hue - wine.hue.mean()\n",
    "moment1 = centered.sum()/(len(centered)-1)\n",
    "moment2 = centered.pow(2).sum()/(len(centered)-1)\n",
    "moment3 = centered.pow(3).sum()/(len(centered)-1)\n",
    "moment4 = centered.pow(4).sum()/(len(centered)-1)\n",
    "\n",
    "print(moment1, moment1/wine.hue.std())\n",
    "print(moment2, moment2/(wine.hue.std()**2))\n",
    "print(moment3, wine.hue.skew())\n",
    "print(moment4, wine.hue.kurt())"
   ]
  },
  {
   "cell_type": "code",
   "execution_count": 77,
   "metadata": {},
   "outputs": [
    {
     "name": "stderr",
     "output_type": "stream",
     "text": [
      "/usr/lib/python3.6/site-packages/IPython/core/interactiveshell.py:2785: DtypeWarning: Columns (0) have mixed types. Specify dtype option on import or set low_memory=False.\n",
      "  interactivity=interactivity, compiler=compiler, result=result)\n"
     ]
    }
   ],
   "source": [
    "escolas = pd.read_csv('datasets/instituicoes_ensino_basico/CADASTRO_MATRICULAS_REGIAO_SUDESTE_SP_2012.csv', sep=';', header=11, encoding='latin1')\n",
    "#escolas"
   ]
  },
  {
   "cell_type": "markdown",
   "metadata": {},
   "source": [
    "#### Questoes sobre o cadastro de matriculas da regiao sudeste da pratica anterior:\n",
    "1. Escolas com bibliotecas tendem a ter salas de leitura também\n",
    "    Como há uma discrepância muito grande em quantidade de escolas com biblioteca e sem biblioteca usamos a porcentagem calculada a partir do número de escolas com ou sem biblioteca e verificamos e há uma porcentagem maior de escolas com sala de leitura sem biblioteca, portanto a hipótese é falsa.\n",
    "2. Escolas privadas contém um número maior de salas\n",
    "    Apesar do número total de salas ser maior nas escolas públicas isso se da pelo fato de ter um número maior delas em comparação a escolas privadas, a média em escolas privadas é maior porém a variância da mesma também é, tendo uma consistência menor, podemos dizer que em média as escolas privadas contém um número maior de salas, confirmando a hipótese.\n",
    "3. Escolas privadas reciclam mais que escolas públicas\n",
    "    Para verificar tal hipótese usamos a mesma estratégia do item 1, por meio de porcentagens e verificamos que apesar de ambas as escoals privadas quanto as públicas não reclicam muito uma porcentagem maior de escolas privadas reclicam comparado as públicas, confirmando a hipótese."
   ]
  },
  {
   "cell_type": "markdown",
   "metadata": {},
   "source": [
    "#### Reformulando questoes da pratica anterior:\n",
    "\n",
    "1. Há relação entre o número de alunos matriculados em escolas publicas e privadas a partir de um boxplot?\n",
    "R: O primeiro ponto a ser observado é um número muito grande de outliers na escola privada, mas eles estão no máximo até 1000, o que é aceitável. Mesmo considerando os elementos entre o primeiro e o terceiro quartil há uma diferença muito grande entre o número de alunos.\n",
    "2. Há discrepancia entre o número min e max de salas em escolas publicas e privadas?\n",
    "R: Pode-se perceber que o número é próximo (mesmo considerando uma diferença de 10 salas) \n",
    "3. A distribuição de número de funcionarios da escola publica segue uma distribuição normal?\n",
    "R: Não, a distribuição concentra-se mais ao lado direito e é mais alta e concentrada que uma distribuição normal."
   ]
  },
  {
   "cell_type": "code",
   "execution_count": 78,
   "metadata": {},
   "outputs": [],
   "source": [
    "escolas = escolas[['MATTOTAL', 'NUM_SALAS_EXISTENTES', 'REDE', 'NUM_FUNCIONARIOS']]\n",
    "#escolas"
   ]
  },
  {
   "cell_type": "code",
   "execution_count": 79,
   "metadata": {},
   "outputs": [
    {
     "data": {
      "image/png": "[encoded data removed]",
      "text/plain": [
       "<Figure size 720x720 with 1 Axes>"
      ]
     },
     "metadata": {},
     "output_type": "display_data"
    }
   ],
   "source": [
    "escolas.columns[[0]]\n",
    "box = escolas.boxplot(column=escolas.columns[[0]].tolist(), rot=45, by='REDE', figsize=(10,10))\n",
    "plt.show()"
   ]
  },
  {
   "cell_type": "code",
   "execution_count": 80,
   "metadata": {},
   "outputs": [
    {
     "name": "stdout",
     "output_type": "stream",
     "text": [
      "114.0\n",
      "124.0\n"
     ]
    }
   ],
   "source": [
    "print(escolas[escolas.REDE == 'Pública'].NUM_SALAS_EXISTENTES.max() - escolas[escolas.REDE == 'Pública'].NUM_SALAS_EXISTENTES.min())\n",
    "print(escolas[escolas.REDE == 'Privada'].NUM_SALAS_EXISTENTES.max() - escolas[escolas.REDE == 'Privada'].NUM_SALAS_EXISTENTES.min())"
   ]
  },
  {
   "cell_type": "code",
   "execution_count": 81,
   "metadata": {},
   "outputs": [
    {
     "name": "stdout",
     "output_type": "stream",
     "text": [
      "-1.848660403014235e-15 -5.775774108728424e-17\n",
      "955.1676048792837 0.9323644494130799\n",
      "260625.54126551127 8.525852007311704\n",
      "386736245.4796749 392.3510470508086\n"
     ]
    }
   ],
   "source": [
    "numf = escolas[escolas.REDE == 'Pública'].NUM_FUNCIONARIOS\n",
    "\n",
    "centered = numf - numf.mean()\n",
    "moment1 = centered.sum()/(len(centered)-1)\n",
    "moment2 = centered.pow(2).sum()/(len(centered)-1)\n",
    "moment3 = centered.pow(3).sum()/(len(centered)-1)\n",
    "moment4 = centered.pow(4).sum()/(len(centered)-1)\n",
    "\n",
    "print(moment1, moment1/numf.std())\n",
    "print(moment2, moment2/(numf.std()**2))\n",
    "print(moment3, numf.skew())\n",
    "print(moment4, numf.kurt())"
   ]
  },
  {
   "cell_type": "markdown",
   "metadata": {},
   "source": [
    "Ao final da pratica, percebemos que o boxplot auxilia a visualização de como os dados se distribuem em torno da mediana, e para verificar a presença de outliers.\n",
    "O intervalo pode sim causar equivoco caso os extremos sejam outliers, mas isso não ocorreu nos testes realizados. \n",
    "Com relação aos momentos, é interessante para avaliar como se dá a distribuição dos dados, ie (se estão centralizados, se estão achatados ou alongados, etc."
   ]
  },
  {
   "cell_type": "code",
   "execution_count": null,
   "metadata": {},
   "outputs": [],
   "source": []
  },
  {
   "cell_type": "code",
   "execution_count": null,
   "metadata": {},
   "outputs": [],
   "source": []
  },
  {
   "cell_type": "code",
   "execution_count": null,
   "metadata": {},
   "outputs": [],
   "source": []
  }
 ],
 "metadata": {
  "kernelspec": {
   "display_name": "Python 3",
   "language": "python",
   "name": "python3"
  },
  "language_info": {
   "codemirror_mode": {
    "name": "ipython",
    "version": 3
   },
   "file_extension": ".py",
   "mimetype": "text/x-python",
   "name": "python",
   "nbconvert_exporter": "python",
   "pygments_lexer": "ipython3",
   "version": "3.6.6"
  }
 },
 "nbformat": 4,
 "nbformat_minor": 2
}
